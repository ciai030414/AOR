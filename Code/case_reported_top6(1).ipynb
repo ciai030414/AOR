{
  "metadata": {
    "kernelspec": {
      "name": "python",
      "display_name": "Python (Pyodide)",
      "language": "python"
    },
    "language_info": {
      "codemirror_mode": {
        "name": "python",
        "version": 3
      },
      "file_extension": ".py",
      "mimetype": "text/x-python",
      "name": "python",
      "nbconvert_exporter": "python",
      "pygments_lexer": "ipython3",
      "version": "3.8"
    }
  },
  "nbformat_minor": 5,
  "nbformat": 4,
  "cells": [
    {
      "id": "9b30c7fe-6614-4288-9be6-552d2dce440c",
      "cell_type": "code",
      "source": "import json\nimport re\nimport matplotlib.pyplot as plt\nimport numpy as np\nimport os\nimport matplotlib.ticker as mticker\n\nscript_dir = os.getcwd() \n\n#setting up the input file path\nscript_dir = os.getcwd()\n#rel_path = \"../data/lacounty_covid.json\"\nrel_path = \"community_mapped_case_data.json\"\nabs_file_path = os.path.join(script_dir, rel_path)\n#setting up the out file path\nscript_dir = os.getcwd()\nout_path_log = \"../plots/daily_top6communities_log.png\" #this line creates a file with log scale in y axis\nabs_out_file_path_log_scale = os.path.join(script_dir, out_path_log)\nout_path = \"../plots/daily_top6communities.png\" #this line creates a file with plot in a regular scale\nabs_out_file_path = os.path.join(script_dir, out_path)\n\n\nclass community:\n\tdef __init__(self,name,actual_name,Today_date):\n\t\tself.name = name\n\t\tself.actual_name = actual_name # for displaying part of figures\n\t\tself.dic_confirmed = {}\n\t\tself.total_confirmed_so_far = 0\n\t\tself.Today_date = Today_date\n\t\tself.dic_confirmed_cummulative = np.zeros(len(range(16,self.Today_date)),dtype=int) # for cumulative confirmed cases for each day\n\t\t\n\t\t\n\tdef calculate_total_confirmed_so_far(self):\n\t\tfor day in self.dic_confirmed.keys():\n\t\t\tself.total_confirmed_so_far += self.dic_confirmed[day]\n\t# for adding new entry for each community on every day \t\t\n\tdef addnumber(self,day, number):\n\t\tself.dic_confirmed[day] = number\n\t\t# increase cumulative confirmed cases here\n\t\tif day == 16:\n\t\t\tself.dic_confirmed_cummulative[day - 16] = number\t\n\t\telse:\n\t\t\tself.dic_confirmed_cummulative[day - 16] =  self.dic_confirmed_cummulative[day - 16 - 1] +  number\t\n\t\t\tprint(self.dic_confirmed_cummulative[day - 16])\n\t# for printing purposes only\t\t\n\tdef print_stat(self):\n\t\tprint(\"name\", self.name)\n\t\tfor day in self.dic_confirmed.keys():\n\t\t\tprint(day, self.dic_confirmed[day])\n\t# return the confirmed cases (either daily or cumulative) for each community\t\t\n\tdef plot_info(self,type_plot):\n\t\toutput = np.zeros(len(range(16,self.Today_date)),dtype=int)\n\t\tfor index,i in enumerate(list(range(16,self.Today_date))):\n\t\t\t# for daily\n\t\t\tif type_plot == 'daily':\n\t\t\t\tif i in self.dic_confirmed.keys():\n\t\t\t\t\toutput[index] =  self.dic_confirmed[i]\n\t\t\t\telse:\n\t\t\t\t\toutput[index] = 0\n\t\t\t# for cumulative\n\t\t\telse:\n\t\t\t\toutput = self.dic_confirmed_cummulative\t\t\t\n\t\treturn output\t\n\ndef main(top_i_comm, type_plot, Today_date):\n    dict_county = {}  # dictionary of all community objects\n    list_communities = []  # list of all community objects\n\n    # Make sure the JSON file is in the correct directory\n    with open(abs_file_path) as json_file:\n        data = json.load(json_file)\n        print(data.keys())\n        for day in sorted([int(k) for k in data.keys()]):\n            for i in range(len(data[str(day)])):\n                actual_name_of_community = data[str(day)][i][0].strip()\n                name_of_community = data[str(day)][i][0].strip().lower().replace(' ', '')\n\n                # Clean city names\n                prefixes = ['cityof', 'losangeles-', 'unincorporated-']\n                for word in prefixes:\n                    name_of_community = name_of_community.replace(word, '')\n\n                # Clean confirmed number\n                confirmed_cases = data[str(day)][i][0].strip().lower(), re.sub(\"[^0-9]\", \"\", data[str(day)][i][1].strip())\n\n                if name_of_community != \"florence-firestone\":\n                    print(name_of_community)\n                    if name_of_community not in dict_county:\n                        dict_county[name_of_community] = community(name_of_community, actual_name_of_community, Today_date)\n                        list_communities.append(dict_county[name_of_community])\n                        dict_county[name_of_community].addnumber(day, int(confirmed_cases[1]))\n                    else:\n                        print(day, int(confirmed_cases[1]))\n                        dict_county[name_of_community].addnumber(day, int(confirmed_cases[1]))\n\n        # Calculate total confirmed cases\n        for community_name in dict_county:\n            dict_county[community_name].calculate_total_confirmed_so_far()\n\n        days = list(range(1, Today_date - 16 + 1))\n\n        # Sort and plot top communities\n        newlist = sorted(list_communities, key=lambda x: x.total_confirmed_so_far, reverse=True)\n        for comm_obj in newlist:\n            if comm_obj.name not in ['-investigatedcases', '-underinvestigation', 'longbeach', 'santamonicamountains'] and top_i_comm > 0:\n                plt.plot(days, comm_obj.plot_info(type_plot), 'o--', label=comm_obj.actual_name)\n                top_i_comm -= 1\n\n        plt.legend()\n        plt.xlabel('Days since March 16, 2020')\n        plt.ylabel('Cases')\n        plt.gca().xaxis.set_major_locator(mticker.MultipleLocator(20))\n        plt.grid(True)\n        plt.title(\"Cases reported for top 6 communities\")\n        plt.savefig(abs_out_file_path)\n        plt.yscale('log')\n        plt.savefig(abs_out_file_path_log_scale)\n        plt.show()",
      "metadata": {
        "trusted": true
      },
      "outputs": [
        {
          "name": "stderr",
          "output_type": "stream",
          "text": "Matplotlib is building the font cache; this may take a moment.\n"
        }
      ],
      "execution_count": 3
    },
    {
      "id": "f3f7e4f4-e1d4-4910-a32d-0b3d11646989",
      "cell_type": "code",
      "source": "",
      "metadata": {
        "trusted": true
      },
      "outputs": [],
      "execution_count": null
    },
    {
      "id": "43ddd99a-88d4-4efb-8ee8-32ed8951acf3",
      "cell_type": "code",
      "source": "",
      "metadata": {
        "trusted": true
      },
      "outputs": [],
      "execution_count": null
    }
  ]
}